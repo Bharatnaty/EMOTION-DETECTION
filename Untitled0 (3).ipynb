{
  "nbformat": 4,
  "nbformat_minor": 0,
  "metadata": {
    "colab": {
      "name": "Untitled0.ipynb",
      "provenance": [],
      "collapsed_sections": []
    },
    "kernelspec": {
      "display_name": "Python 3",
      "name": "python3"
    },
    "language_info": {
      "name": "python"
    }
  },
  "cells": [
    {
      "cell_type": "code",
      "metadata": {
        "id": "ejzTxux_G-Ji"
      },
      "source": [
        "import tensorflow as tf\n",
        "import numpy as np\n",
        "from tensorflow import keras\n",
        "import matplotlib.pyplot as plt\n",
        "import seaborn as sns\n",
        "from sklearn.model_selection import train_test_split\n",
        "from keras.preprocessing import image\n",
        "import pandas as pd\n",
        "from keras.layers import Flatten,Dense,Conv2D,MaxPool2D,Dropout,BatchNormalization,InputLayer\n",
        "from keras.utils import np_utils"
      ],
      "execution_count": null,
      "outputs": []
    },
    {
      "cell_type": "code",
      "metadata": {
        "id": "atPRYc8lhMti"
      },
      "source": [
        "data=pd.read_csv(\"fer-2013.csv\")"
      ],
      "execution_count": null,
      "outputs": []
    },
    {
      "cell_type": "code",
      "metadata": {
        "colab": {
          "base_uri": "https://localhost:8080/"
        },
        "id": "VJmwUyC1Af4G",
        "outputId": "80be8cc5-c883-47ae-ea88-29aa2b0a32ac"
      },
      "source": [
        "img_array = data.pixels.apply(lambda x: np.array(x.split(' ')).reshape(48, 48, 1).astype('float32'))\n",
        "img_array = np.stack(img_array, axis=0)\n",
        "img_array.shape"
      ],
      "execution_count": null,
      "outputs": [
        {
          "output_type": "execute_result",
          "data": {
            "text/plain": [
              "(5, 48, 48, 1)"
            ]
          },
          "metadata": {
            "tags": []
          },
          "execution_count": 3
        }
      ]
    },
    {
      "cell_type": "code",
      "metadata": {
        "colab": {
          "base_uri": "https://localhost:8080/"
        },
        "id": "3JM-UegzFHgq",
        "outputId": "f62e369e-e032-43ba-8980-494f371d0468"
      },
      "source": [
        "img_labels = np_utils.to_categorical(data[\"emotion\"])\n",
        "img_labels.shape"
      ],
      "execution_count": null,
      "outputs": [
        {
          "output_type": "execute_result",
          "data": {
            "text/plain": [
              "(5, 7)"
            ]
          },
          "metadata": {
            "tags": []
          },
          "execution_count": 4
        }
      ]
    },
    {
      "cell_type": "code",
      "metadata": {
        "id": "iW1fZ_hJol_f"
      },
      "source": [
        "x_train,x_test,y_train,y_test=train_test_split(img_array,img_labels,test_size=0.10)"
      ],
      "execution_count": null,
      "outputs": []
    },
    {
      "cell_type": "code",
      "metadata": {
        "id": "lHZQxOOxywhU"
      },
      "source": [
        "input_shapes=x_train.shape[1:]"
      ],
      "execution_count": null,
      "outputs": []
    },
    {
      "cell_type": "code",
      "metadata": {
        "colab": {
          "base_uri": "https://localhost:8080/"
        },
        "id": "Al6K7VCUkfvn",
        "outputId": "8a80f974-4c52-42f1-af28-b8003184bbdb"
      },
      "source": [
        "x_train.shape"
      ],
      "execution_count": null,
      "outputs": [
        {
          "output_type": "execute_result",
          "data": {
            "text/plain": [
              "(4, 48, 48, 1)"
            ]
          },
          "metadata": {
            "tags": []
          },
          "execution_count": 7
        }
      ]
    },
    {
      "cell_type": "code",
      "metadata": {
        "id": "DSIz74N8xo7R"
      },
      "source": [
        "model = keras.models.Sequential()\n",
        "\n",
        "model.add(InputLayer(input_shape=(48,48,1)))\n",
        "\n",
        "model.add(Conv2D(64,(5,5),activation='relu',strides=(1,1)))\n",
        "model.add(Conv2D(64,(5,5),activation='relu',strides=(1,1)))\n",
        "model.add(Dropout(0.25))\n",
        "model.add(BatchNormalization())\n",
        "model.add(MaxPool2D(pool_size=(2,2)))\n",
        "\n",
        "model.add(Conv2D(128,(5,5),activation='relu',strides=(1,1)))\n",
        "model.add(Conv2D(128,(5,5),activation='relu',strides=(1,1)))\n",
        "model.add(Dropout(0.25))\n",
        "model.add(BatchNormalization())\n",
        "model.add(MaxPool2D(pool_size=(2,2)))\n",
        "\n",
        "model.add(Conv2D(256,(3,3),activation='relu',strides=(1,1)))\n",
        "model.add(Conv2D(256,(3,3),activation='relu',strides=(1,1)))\n",
        "model.add(Dropout(0.25))\n",
        "model.add(BatchNormalization())\n",
        "model.add(MaxPool2D(pool_size=(2,2)))\n",
        "\n",
        "model.add(Flatten())\n",
        "model.add(Dense(128,activation='relu'))\n",
        "model.add(Dropout(0.25))\n",
        "model.add(BatchNormalization())\n",
        "model.add(Dense(7,activation='softmax'))\n"
      ],
      "execution_count": null,
      "outputs": []
    },
    {
      "cell_type": "code",
      "metadata": {
        "id": "DGidjvo9IwQ6"
      },
      "source": [
        "model.compile(optimizer=\"adam\",loss=\"CategoricalCrossentropy\",metrics=[\"accuracy\"])"
      ],
      "execution_count": null,
      "outputs": []
    },
    {
      "cell_type": "code",
      "metadata": {
        "colab": {
          "base_uri": "https://localhost:8080/"
        },
        "id": "019Bj7R2I5IA",
        "outputId": "7232133f-e49a-4b73-9fc3-51af34abc203"
      },
      "source": [
        "model.fit(x_train,y_train,batch_size=64,epochs=200,verbose=1,validation_data=(x_test,y_test))"
      ],
      "execution_count": null,
      "outputs": [
        {
          "output_type": "stream",
          "text": [
            "Epoch 1/200\n",
            "1/1 [==============================] - 2s 2s/step - loss: 2.4392 - accuracy: 0.0000e+00 - val_loss: 11.2223 - val_accuracy: 0.0000e+00\n",
            "Epoch 2/200\n",
            "1/1 [==============================] - 0s 163ms/step - loss: 2.3691 - accuracy: 0.2500 - val_loss: 14.5107 - val_accuracy: 0.0000e+00\n",
            "Epoch 3/200\n",
            "1/1 [==============================] - 0s 169ms/step - loss: 1.6669 - accuracy: 0.5000 - val_loss: 15.9245 - val_accuracy: 0.0000e+00\n",
            "Epoch 4/200\n",
            "1/1 [==============================] - 0s 165ms/step - loss: 1.4205 - accuracy: 0.2500 - val_loss: 16.7936 - val_accuracy: 0.0000e+00\n",
            "Epoch 5/200\n",
            "1/1 [==============================] - 0s 166ms/step - loss: 0.8608 - accuracy: 0.7500 - val_loss: 16.0722 - val_accuracy: 0.0000e+00\n",
            "Epoch 6/200\n",
            "1/1 [==============================] - 0s 173ms/step - loss: 0.8835 - accuracy: 0.7500 - val_loss: 17.3097 - val_accuracy: 0.0000e+00\n",
            "Epoch 7/200\n",
            "1/1 [==============================] - 0s 160ms/step - loss: 0.8127 - accuracy: 0.5000 - val_loss: 22.8076 - val_accuracy: 0.0000e+00\n",
            "Epoch 8/200\n",
            "1/1 [==============================] - 0s 168ms/step - loss: 0.5227 - accuracy: 0.7500 - val_loss: 26.9786 - val_accuracy: 0.0000e+00\n",
            "Epoch 9/200\n",
            "1/1 [==============================] - 0s 165ms/step - loss: 0.4476 - accuracy: 1.0000 - val_loss: 27.8866 - val_accuracy: 0.0000e+00\n",
            "Epoch 10/200\n",
            "1/1 [==============================] - 0s 176ms/step - loss: 0.7964 - accuracy: 0.7500 - val_loss: 34.3779 - val_accuracy: 0.0000e+00\n",
            "Epoch 11/200\n",
            "1/1 [==============================] - 0s 170ms/step - loss: 0.2950 - accuracy: 1.0000 - val_loss: 37.3070 - val_accuracy: 0.0000e+00\n",
            "Epoch 12/200\n",
            "1/1 [==============================] - 0s 171ms/step - loss: 0.3264 - accuracy: 1.0000 - val_loss: 33.2017 - val_accuracy: 0.0000e+00\n",
            "Epoch 13/200\n",
            "1/1 [==============================] - 0s 178ms/step - loss: 0.2727 - accuracy: 1.0000 - val_loss: 29.4588 - val_accuracy: 0.0000e+00\n",
            "Epoch 14/200\n",
            "1/1 [==============================] - 0s 171ms/step - loss: 0.2594 - accuracy: 1.0000 - val_loss: 26.1188 - val_accuracy: 0.0000e+00\n",
            "Epoch 15/200\n",
            "1/1 [==============================] - 0s 170ms/step - loss: 0.4284 - accuracy: 1.0000 - val_loss: 18.7412 - val_accuracy: 0.0000e+00\n",
            "Epoch 16/200\n",
            "1/1 [==============================] - 0s 165ms/step - loss: 0.1930 - accuracy: 1.0000 - val_loss: 11.2436 - val_accuracy: 0.0000e+00\n",
            "Epoch 17/200\n",
            "1/1 [==============================] - 0s 171ms/step - loss: 0.3891 - accuracy: 0.7500 - val_loss: 3.8762 - val_accuracy: 0.0000e+00\n",
            "Epoch 18/200\n",
            "1/1 [==============================] - 0s 172ms/step - loss: 0.0951 - accuracy: 1.0000 - val_loss: 2.8696 - val_accuracy: 0.0000e+00\n",
            "Epoch 19/200\n",
            "1/1 [==============================] - 0s 168ms/step - loss: 0.1176 - accuracy: 1.0000 - val_loss: 2.9553 - val_accuracy: 0.0000e+00\n",
            "Epoch 20/200\n",
            "1/1 [==============================] - 0s 174ms/step - loss: 0.1235 - accuracy: 1.0000 - val_loss: 3.1620 - val_accuracy: 0.0000e+00\n",
            "Epoch 21/200\n",
            "1/1 [==============================] - 0s 162ms/step - loss: 0.1185 - accuracy: 1.0000 - val_loss: 3.7679 - val_accuracy: 0.0000e+00\n",
            "Epoch 22/200\n",
            "1/1 [==============================] - 0s 161ms/step - loss: 0.1466 - accuracy: 1.0000 - val_loss: 5.3288 - val_accuracy: 0.0000e+00\n",
            "Epoch 23/200\n",
            "1/1 [==============================] - 0s 172ms/step - loss: 0.1570 - accuracy: 1.0000 - val_loss: 6.3308 - val_accuracy: 0.0000e+00\n",
            "Epoch 24/200\n",
            "1/1 [==============================] - 0s 168ms/step - loss: 0.2609 - accuracy: 1.0000 - val_loss: 0.9818 - val_accuracy: 0.0000e+00\n",
            "Epoch 25/200\n",
            "1/1 [==============================] - 0s 169ms/step - loss: 0.1217 - accuracy: 1.0000 - val_loss: 0.1188 - val_accuracy: 1.0000\n",
            "Epoch 26/200\n",
            "1/1 [==============================] - 0s 171ms/step - loss: 0.1596 - accuracy: 1.0000 - val_loss: 0.0199 - val_accuracy: 1.0000\n",
            "Epoch 27/200\n",
            "1/1 [==============================] - 0s 161ms/step - loss: 0.1040 - accuracy: 1.0000 - val_loss: 0.0121 - val_accuracy: 1.0000\n",
            "Epoch 28/200\n",
            "1/1 [==============================] - 0s 168ms/step - loss: 0.0614 - accuracy: 1.0000 - val_loss: 0.0117 - val_accuracy: 1.0000\n",
            "Epoch 29/200\n",
            "1/1 [==============================] - 0s 171ms/step - loss: 0.1168 - accuracy: 1.0000 - val_loss: 0.0279 - val_accuracy: 1.0000\n",
            "Epoch 30/200\n",
            "1/1 [==============================] - 0s 170ms/step - loss: 0.0809 - accuracy: 1.0000 - val_loss: 0.0578 - val_accuracy: 1.0000\n",
            "Epoch 31/200\n",
            "1/1 [==============================] - 0s 176ms/step - loss: 0.0501 - accuracy: 1.0000 - val_loss: 0.0502 - val_accuracy: 1.0000\n",
            "Epoch 32/200\n",
            "1/1 [==============================] - 0s 171ms/step - loss: 0.0431 - accuracy: 1.0000 - val_loss: 0.0556 - val_accuracy: 1.0000\n",
            "Epoch 33/200\n",
            "1/1 [==============================] - 0s 173ms/step - loss: 0.0718 - accuracy: 1.0000 - val_loss: 0.4095 - val_accuracy: 1.0000\n",
            "Epoch 34/200\n",
            "1/1 [==============================] - 0s 169ms/step - loss: 0.0930 - accuracy: 1.0000 - val_loss: 1.6276 - val_accuracy: 0.0000e+00\n",
            "Epoch 35/200\n",
            "1/1 [==============================] - 0s 164ms/step - loss: 0.0800 - accuracy: 1.0000 - val_loss: 4.0900 - val_accuracy: 0.0000e+00\n",
            "Epoch 36/200\n",
            "1/1 [==============================] - 0s 170ms/step - loss: 0.0197 - accuracy: 1.0000 - val_loss: 6.2420 - val_accuracy: 0.0000e+00\n",
            "Epoch 37/200\n",
            "1/1 [==============================] - 0s 171ms/step - loss: 0.0457 - accuracy: 1.0000 - val_loss: 7.9674 - val_accuracy: 0.0000e+00\n",
            "Epoch 38/200\n",
            "1/1 [==============================] - 0s 171ms/step - loss: 0.0323 - accuracy: 1.0000 - val_loss: 9.3832 - val_accuracy: 0.0000e+00\n",
            "Epoch 39/200\n",
            "1/1 [==============================] - 0s 173ms/step - loss: 0.1201 - accuracy: 1.0000 - val_loss: 11.0068 - val_accuracy: 0.0000e+00\n",
            "Epoch 40/200\n",
            "1/1 [==============================] - 0s 166ms/step - loss: 0.0569 - accuracy: 1.0000 - val_loss: 11.7364 - val_accuracy: 0.0000e+00\n",
            "Epoch 41/200\n",
            "1/1 [==============================] - 0s 171ms/step - loss: 0.0783 - accuracy: 1.0000 - val_loss: 13.7692 - val_accuracy: 0.0000e+00\n",
            "Epoch 42/200\n",
            "1/1 [==============================] - 0s 167ms/step - loss: 0.0319 - accuracy: 1.0000 - val_loss: 15.4976 - val_accuracy: 0.0000e+00\n",
            "Epoch 43/200\n",
            "1/1 [==============================] - 0s 170ms/step - loss: 0.0169 - accuracy: 1.0000 - val_loss: 16.2188 - val_accuracy: 0.0000e+00\n",
            "Epoch 44/200\n",
            "1/1 [==============================] - 0s 166ms/step - loss: 0.0305 - accuracy: 1.0000 - val_loss: 16.4690 - val_accuracy: 0.0000e+00\n",
            "Epoch 45/200\n",
            "1/1 [==============================] - 0s 163ms/step - loss: 0.1481 - accuracy: 1.0000 - val_loss: 15.0327 - val_accuracy: 0.0000e+00\n",
            "Epoch 46/200\n",
            "1/1 [==============================] - 0s 170ms/step - loss: 0.0232 - accuracy: 1.0000 - val_loss: 13.6663 - val_accuracy: 0.0000e+00\n",
            "Epoch 47/200\n",
            "1/1 [==============================] - 0s 178ms/step - loss: 0.0274 - accuracy: 1.0000 - val_loss: 12.3647 - val_accuracy: 0.0000e+00\n",
            "Epoch 48/200\n",
            "1/1 [==============================] - 0s 164ms/step - loss: 0.0201 - accuracy: 1.0000 - val_loss: 11.3806 - val_accuracy: 0.0000e+00\n",
            "Epoch 49/200\n",
            "1/1 [==============================] - 0s 166ms/step - loss: 0.0356 - accuracy: 1.0000 - val_loss: 10.3999 - val_accuracy: 0.0000e+00\n",
            "Epoch 50/200\n",
            "1/1 [==============================] - 0s 171ms/step - loss: 0.0345 - accuracy: 1.0000 - val_loss: 9.5161 - val_accuracy: 0.0000e+00\n",
            "Epoch 51/200\n",
            "1/1 [==============================] - 0s 161ms/step - loss: 0.0269 - accuracy: 1.0000 - val_loss: 8.8090 - val_accuracy: 0.0000e+00\n",
            "Epoch 52/200\n",
            "1/1 [==============================] - 0s 171ms/step - loss: 0.0175 - accuracy: 1.0000 - val_loss: 8.2569 - val_accuracy: 0.0000e+00\n",
            "Epoch 53/200\n",
            "1/1 [==============================] - 0s 180ms/step - loss: 0.0150 - accuracy: 1.0000 - val_loss: 7.8829 - val_accuracy: 0.0000e+00\n",
            "Epoch 54/200\n",
            "1/1 [==============================] - 0s 174ms/step - loss: 0.0192 - accuracy: 1.0000 - val_loss: 7.6988 - val_accuracy: 0.0000e+00\n",
            "Epoch 55/200\n",
            "1/1 [==============================] - 0s 167ms/step - loss: 0.0416 - accuracy: 1.0000 - val_loss: 8.0158 - val_accuracy: 0.0000e+00\n",
            "Epoch 56/200\n",
            "1/1 [==============================] - 0s 174ms/step - loss: 0.0174 - accuracy: 1.0000 - val_loss: 8.0395 - val_accuracy: 0.0000e+00\n",
            "Epoch 57/200\n",
            "1/1 [==============================] - 0s 168ms/step - loss: 0.0297 - accuracy: 1.0000 - val_loss: 8.0319 - val_accuracy: 0.0000e+00\n",
            "Epoch 58/200\n",
            "1/1 [==============================] - 0s 171ms/step - loss: 0.0428 - accuracy: 1.0000 - val_loss: 8.2096 - val_accuracy: 0.0000e+00\n",
            "Epoch 59/200\n",
            "1/1 [==============================] - 0s 173ms/step - loss: 0.0218 - accuracy: 1.0000 - val_loss: 8.2925 - val_accuracy: 0.0000e+00\n",
            "Epoch 60/200\n",
            "1/1 [==============================] - 0s 167ms/step - loss: 0.0195 - accuracy: 1.0000 - val_loss: 8.1632 - val_accuracy: 0.0000e+00\n",
            "Epoch 61/200\n",
            "1/1 [==============================] - 0s 171ms/step - loss: 0.0301 - accuracy: 1.0000 - val_loss: 8.5036 - val_accuracy: 0.0000e+00\n",
            "Epoch 62/200\n",
            "1/1 [==============================] - 0s 176ms/step - loss: 0.0373 - accuracy: 1.0000 - val_loss: 8.7771 - val_accuracy: 0.0000e+00\n",
            "Epoch 63/200\n",
            "1/1 [==============================] - 0s 163ms/step - loss: 0.0069 - accuracy: 1.0000 - val_loss: 9.0492 - val_accuracy: 0.0000e+00\n",
            "Epoch 64/200\n",
            "1/1 [==============================] - 0s 160ms/step - loss: 0.0177 - accuracy: 1.0000 - val_loss: 9.1908 - val_accuracy: 0.0000e+00\n",
            "Epoch 65/200\n",
            "1/1 [==============================] - 0s 162ms/step - loss: 0.0463 - accuracy: 1.0000 - val_loss: 9.2120 - val_accuracy: 0.0000e+00\n",
            "Epoch 66/200\n",
            "1/1 [==============================] - 0s 164ms/step - loss: 0.0258 - accuracy: 1.0000 - val_loss: 8.9434 - val_accuracy: 0.0000e+00\n",
            "Epoch 67/200\n",
            "1/1 [==============================] - 0s 178ms/step - loss: 0.0201 - accuracy: 1.0000 - val_loss: 8.5895 - val_accuracy: 0.0000e+00\n",
            "Epoch 68/200\n",
            "1/1 [==============================] - 0s 168ms/step - loss: 0.0061 - accuracy: 1.0000 - val_loss: 8.2845 - val_accuracy: 0.0000e+00\n",
            "Epoch 69/200\n",
            "1/1 [==============================] - 0s 177ms/step - loss: 0.0144 - accuracy: 1.0000 - val_loss: 7.9629 - val_accuracy: 0.0000e+00\n",
            "Epoch 70/200\n",
            "1/1 [==============================] - 0s 176ms/step - loss: 0.0169 - accuracy: 1.0000 - val_loss: 7.7841 - val_accuracy: 0.0000e+00\n",
            "Epoch 71/200\n",
            "1/1 [==============================] - 0s 164ms/step - loss: 0.0105 - accuracy: 1.0000 - val_loss: 7.5800 - val_accuracy: 0.0000e+00\n",
            "Epoch 72/200\n",
            "1/1 [==============================] - 0s 164ms/step - loss: 0.0236 - accuracy: 1.0000 - val_loss: 7.3376 - val_accuracy: 0.0000e+00\n",
            "Epoch 73/200\n",
            "1/1 [==============================] - 0s 169ms/step - loss: 0.0241 - accuracy: 1.0000 - val_loss: 7.2282 - val_accuracy: 0.0000e+00\n",
            "Epoch 74/200\n",
            "1/1 [==============================] - 0s 171ms/step - loss: 0.0081 - accuracy: 1.0000 - val_loss: 7.0741 - val_accuracy: 0.0000e+00\n",
            "Epoch 75/200\n",
            "1/1 [==============================] - 0s 169ms/step - loss: 0.0132 - accuracy: 1.0000 - val_loss: 7.0139 - val_accuracy: 0.0000e+00\n",
            "Epoch 76/200\n",
            "1/1 [==============================] - 0s 172ms/step - loss: 0.0227 - accuracy: 1.0000 - val_loss: 6.9005 - val_accuracy: 0.0000e+00\n",
            "Epoch 77/200\n",
            "1/1 [==============================] - 0s 163ms/step - loss: 0.0109 - accuracy: 1.0000 - val_loss: 6.9060 - val_accuracy: 0.0000e+00\n",
            "Epoch 78/200\n",
            "1/1 [==============================] - 0s 165ms/step - loss: 0.0061 - accuracy: 1.0000 - val_loss: 6.8035 - val_accuracy: 0.0000e+00\n",
            "Epoch 79/200\n",
            "1/1 [==============================] - 0s 177ms/step - loss: 0.0158 - accuracy: 1.0000 - val_loss: 6.7223 - val_accuracy: 0.0000e+00\n",
            "Epoch 80/200\n",
            "1/1 [==============================] - 0s 174ms/step - loss: 0.0063 - accuracy: 1.0000 - val_loss: 6.5870 - val_accuracy: 0.0000e+00\n",
            "Epoch 81/200\n",
            "1/1 [==============================] - 0s 171ms/step - loss: 0.0153 - accuracy: 1.0000 - val_loss: 6.4985 - val_accuracy: 0.0000e+00\n",
            "Epoch 82/200\n",
            "1/1 [==============================] - 0s 177ms/step - loss: 0.0118 - accuracy: 1.0000 - val_loss: 6.4449 - val_accuracy: 0.0000e+00\n",
            "Epoch 83/200\n",
            "1/1 [==============================] - 0s 172ms/step - loss: 0.0120 - accuracy: 1.0000 - val_loss: 6.3401 - val_accuracy: 0.0000e+00\n",
            "Epoch 84/200\n",
            "1/1 [==============================] - 0s 171ms/step - loss: 0.0099 - accuracy: 1.0000 - val_loss: 6.2388 - val_accuracy: 0.0000e+00\n",
            "Epoch 85/200\n",
            "1/1 [==============================] - 0s 183ms/step - loss: 0.0181 - accuracy: 1.0000 - val_loss: 6.1054 - val_accuracy: 0.0000e+00\n",
            "Epoch 86/200\n",
            "1/1 [==============================] - 0s 174ms/step - loss: 0.0109 - accuracy: 1.0000 - val_loss: 5.9864 - val_accuracy: 0.0000e+00\n",
            "Epoch 87/200\n",
            "1/1 [==============================] - 0s 181ms/step - loss: 0.0044 - accuracy: 1.0000 - val_loss: 5.8319 - val_accuracy: 0.0000e+00\n",
            "Epoch 88/200\n",
            "1/1 [==============================] - 0s 167ms/step - loss: 0.0073 - accuracy: 1.0000 - val_loss: 5.7035 - val_accuracy: 0.0000e+00\n",
            "Epoch 89/200\n",
            "1/1 [==============================] - 0s 167ms/step - loss: 0.0122 - accuracy: 1.0000 - val_loss: 5.5351 - val_accuracy: 0.0000e+00\n",
            "Epoch 90/200\n",
            "1/1 [==============================] - 0s 164ms/step - loss: 0.0050 - accuracy: 1.0000 - val_loss: 5.3987 - val_accuracy: 0.0000e+00\n",
            "Epoch 91/200\n",
            "1/1 [==============================] - 0s 181ms/step - loss: 0.0089 - accuracy: 1.0000 - val_loss: 5.2507 - val_accuracy: 0.0000e+00\n",
            "Epoch 92/200\n",
            "1/1 [==============================] - 0s 175ms/step - loss: 0.0093 - accuracy: 1.0000 - val_loss: 5.1458 - val_accuracy: 0.0000e+00\n",
            "Epoch 93/200\n",
            "1/1 [==============================] - 0s 176ms/step - loss: 0.0138 - accuracy: 1.0000 - val_loss: 5.1091 - val_accuracy: 0.0000e+00\n",
            "Epoch 94/200\n",
            "1/1 [==============================] - 0s 173ms/step - loss: 0.0110 - accuracy: 1.0000 - val_loss: 4.9691 - val_accuracy: 0.0000e+00\n",
            "Epoch 95/200\n",
            "1/1 [==============================] - 0s 176ms/step - loss: 0.0107 - accuracy: 1.0000 - val_loss: 4.8492 - val_accuracy: 0.0000e+00\n",
            "Epoch 96/200\n",
            "1/1 [==============================] - 0s 178ms/step - loss: 0.0078 - accuracy: 1.0000 - val_loss: 4.7433 - val_accuracy: 0.0000e+00\n",
            "Epoch 97/200\n",
            "1/1 [==============================] - 0s 177ms/step - loss: 0.0086 - accuracy: 1.0000 - val_loss: 4.6423 - val_accuracy: 0.0000e+00\n",
            "Epoch 98/200\n",
            "1/1 [==============================] - 0s 177ms/step - loss: 0.0126 - accuracy: 1.0000 - val_loss: 4.5216 - val_accuracy: 0.0000e+00\n",
            "Epoch 99/200\n",
            "1/1 [==============================] - 0s 172ms/step - loss: 0.0083 - accuracy: 1.0000 - val_loss: 4.4098 - val_accuracy: 0.0000e+00\n",
            "Epoch 100/200\n",
            "1/1 [==============================] - 0s 170ms/step - loss: 0.0684 - accuracy: 1.0000 - val_loss: 4.4562 - val_accuracy: 0.0000e+00\n",
            "Epoch 101/200\n",
            "1/1 [==============================] - 0s 188ms/step - loss: 0.0120 - accuracy: 1.0000 - val_loss: 4.4293 - val_accuracy: 0.0000e+00\n",
            "Epoch 102/200\n",
            "1/1 [==============================] - 0s 187ms/step - loss: 0.0101 - accuracy: 1.0000 - val_loss: 4.3731 - val_accuracy: 0.0000e+00\n",
            "Epoch 103/200\n",
            "1/1 [==============================] - 0s 177ms/step - loss: 0.0100 - accuracy: 1.0000 - val_loss: 4.3138 - val_accuracy: 0.0000e+00\n",
            "Epoch 104/200\n",
            "1/1 [==============================] - 0s 172ms/step - loss: 0.0110 - accuracy: 1.0000 - val_loss: 4.2702 - val_accuracy: 0.0000e+00\n",
            "Epoch 105/200\n",
            "1/1 [==============================] - 0s 169ms/step - loss: 0.0039 - accuracy: 1.0000 - val_loss: 4.2645 - val_accuracy: 0.0000e+00\n",
            "Epoch 106/200\n",
            "1/1 [==============================] - 0s 175ms/step - loss: 0.0046 - accuracy: 1.0000 - val_loss: 4.2597 - val_accuracy: 0.0000e+00\n",
            "Epoch 107/200\n",
            "1/1 [==============================] - 0s 172ms/step - loss: 0.0151 - accuracy: 1.0000 - val_loss: 4.2348 - val_accuracy: 0.0000e+00\n",
            "Epoch 108/200\n",
            "1/1 [==============================] - 0s 186ms/step - loss: 0.0141 - accuracy: 1.0000 - val_loss: 4.2588 - val_accuracy: 0.0000e+00\n",
            "Epoch 109/200\n",
            "1/1 [==============================] - 0s 174ms/step - loss: 0.0085 - accuracy: 1.0000 - val_loss: 4.2936 - val_accuracy: 0.0000e+00\n",
            "Epoch 110/200\n",
            "1/1 [==============================] - 0s 176ms/step - loss: 0.0129 - accuracy: 1.0000 - val_loss: 4.3015 - val_accuracy: 0.0000e+00\n",
            "Epoch 111/200\n",
            "1/1 [==============================] - 0s 170ms/step - loss: 0.0086 - accuracy: 1.0000 - val_loss: 4.3306 - val_accuracy: 0.0000e+00\n",
            "Epoch 112/200\n",
            "1/1 [==============================] - 0s 171ms/step - loss: 0.0074 - accuracy: 1.0000 - val_loss: 4.3516 - val_accuracy: 0.0000e+00\n",
            "Epoch 113/200\n",
            "1/1 [==============================] - 0s 175ms/step - loss: 0.0095 - accuracy: 1.0000 - val_loss: 4.3672 - val_accuracy: 0.0000e+00\n",
            "Epoch 114/200\n",
            "1/1 [==============================] - 0s 172ms/step - loss: 0.0064 - accuracy: 1.0000 - val_loss: 4.4050 - val_accuracy: 0.0000e+00\n",
            "Epoch 115/200\n",
            "1/1 [==============================] - 0s 171ms/step - loss: 0.0045 - accuracy: 1.0000 - val_loss: 4.4381 - val_accuracy: 0.0000e+00\n",
            "Epoch 116/200\n",
            "1/1 [==============================] - 0s 169ms/step - loss: 0.0150 - accuracy: 1.0000 - val_loss: 4.4618 - val_accuracy: 0.0000e+00\n",
            "Epoch 117/200\n",
            "1/1 [==============================] - 0s 179ms/step - loss: 0.0036 - accuracy: 1.0000 - val_loss: 4.4876 - val_accuracy: 0.0000e+00\n",
            "Epoch 118/200\n",
            "1/1 [==============================] - 0s 174ms/step - loss: 0.0122 - accuracy: 1.0000 - val_loss: 4.5073 - val_accuracy: 0.0000e+00\n",
            "Epoch 119/200\n",
            "1/1 [==============================] - 0s 175ms/step - loss: 0.0040 - accuracy: 1.0000 - val_loss: 4.5338 - val_accuracy: 0.0000e+00\n",
            "Epoch 120/200\n",
            "1/1 [==============================] - 0s 177ms/step - loss: 0.0056 - accuracy: 1.0000 - val_loss: 4.5665 - val_accuracy: 0.0000e+00\n",
            "Epoch 121/200\n",
            "1/1 [==============================] - 0s 171ms/step - loss: 0.0050 - accuracy: 1.0000 - val_loss: 4.5731 - val_accuracy: 0.0000e+00\n",
            "Epoch 122/200\n",
            "1/1 [==============================] - 0s 168ms/step - loss: 0.0118 - accuracy: 1.0000 - val_loss: 4.5719 - val_accuracy: 0.0000e+00\n",
            "Epoch 123/200\n",
            "1/1 [==============================] - 0s 164ms/step - loss: 0.0070 - accuracy: 1.0000 - val_loss: 4.5886 - val_accuracy: 0.0000e+00\n",
            "Epoch 124/200\n",
            "1/1 [==============================] - 0s 169ms/step - loss: 0.0057 - accuracy: 1.0000 - val_loss: 4.6079 - val_accuracy: 0.0000e+00\n",
            "Epoch 125/200\n",
            "1/1 [==============================] - 0s 177ms/step - loss: 0.0074 - accuracy: 1.0000 - val_loss: 4.6210 - val_accuracy: 0.0000e+00\n",
            "Epoch 126/200\n",
            "1/1 [==============================] - 0s 186ms/step - loss: 0.0050 - accuracy: 1.0000 - val_loss: 4.6390 - val_accuracy: 0.0000e+00\n",
            "Epoch 127/200\n",
            "1/1 [==============================] - 0s 166ms/step - loss: 0.0102 - accuracy: 1.0000 - val_loss: 4.6463 - val_accuracy: 0.0000e+00\n",
            "Epoch 128/200\n",
            "1/1 [==============================] - 0s 168ms/step - loss: 0.0111 - accuracy: 1.0000 - val_loss: 4.6943 - val_accuracy: 0.0000e+00\n",
            "Epoch 129/200\n",
            "1/1 [==============================] - 0s 171ms/step - loss: 0.0135 - accuracy: 1.0000 - val_loss: 4.7360 - val_accuracy: 0.0000e+00\n",
            "Epoch 130/200\n",
            "1/1 [==============================] - 0s 175ms/step - loss: 0.0131 - accuracy: 1.0000 - val_loss: 4.7017 - val_accuracy: 0.0000e+00\n",
            "Epoch 131/200\n",
            "1/1 [==============================] - 0s 171ms/step - loss: 0.0108 - accuracy: 1.0000 - val_loss: 4.7348 - val_accuracy: 0.0000e+00\n",
            "Epoch 132/200\n",
            "1/1 [==============================] - 0s 180ms/step - loss: 0.0047 - accuracy: 1.0000 - val_loss: 4.7608 - val_accuracy: 0.0000e+00\n",
            "Epoch 133/200\n",
            "1/1 [==============================] - 0s 169ms/step - loss: 0.0063 - accuracy: 1.0000 - val_loss: 4.8015 - val_accuracy: 0.0000e+00\n",
            "Epoch 134/200\n",
            "1/1 [==============================] - 0s 168ms/step - loss: 0.0031 - accuracy: 1.0000 - val_loss: 4.8392 - val_accuracy: 0.0000e+00\n",
            "Epoch 135/200\n",
            "1/1 [==============================] - 0s 179ms/step - loss: 0.0027 - accuracy: 1.0000 - val_loss: 4.8655 - val_accuracy: 0.0000e+00\n",
            "Epoch 136/200\n",
            "1/1 [==============================] - 0s 173ms/step - loss: 0.0073 - accuracy: 1.0000 - val_loss: 4.8931 - val_accuracy: 0.0000e+00\n",
            "Epoch 137/200\n",
            "1/1 [==============================] - 0s 169ms/step - loss: 0.0104 - accuracy: 1.0000 - val_loss: 4.9533 - val_accuracy: 0.0000e+00\n",
            "Epoch 138/200\n",
            "1/1 [==============================] - 0s 179ms/step - loss: 0.0031 - accuracy: 1.0000 - val_loss: 5.0634 - val_accuracy: 0.0000e+00\n",
            "Epoch 139/200\n",
            "1/1 [==============================] - 0s 164ms/step - loss: 0.0055 - accuracy: 1.0000 - val_loss: 5.1397 - val_accuracy: 0.0000e+00\n",
            "Epoch 140/200\n",
            "1/1 [==============================] - 0s 167ms/step - loss: 0.0121 - accuracy: 1.0000 - val_loss: 5.1883 - val_accuracy: 0.0000e+00\n",
            "Epoch 141/200\n",
            "1/1 [==============================] - 0s 169ms/step - loss: 0.0038 - accuracy: 1.0000 - val_loss: 5.2324 - val_accuracy: 0.0000e+00\n",
            "Epoch 142/200\n",
            "1/1 [==============================] - 0s 176ms/step - loss: 0.0151 - accuracy: 1.0000 - val_loss: 5.2240 - val_accuracy: 0.0000e+00\n",
            "Epoch 143/200\n",
            "1/1 [==============================] - 0s 174ms/step - loss: 0.0063 - accuracy: 1.0000 - val_loss: 5.2296 - val_accuracy: 0.0000e+00\n",
            "Epoch 144/200\n",
            "1/1 [==============================] - 0s 174ms/step - loss: 0.0128 - accuracy: 1.0000 - val_loss: 5.2114 - val_accuracy: 0.0000e+00\n",
            "Epoch 145/200\n",
            "1/1 [==============================] - 0s 182ms/step - loss: 0.0102 - accuracy: 1.0000 - val_loss: 5.1915 - val_accuracy: 0.0000e+00\n",
            "Epoch 146/200\n",
            "1/1 [==============================] - 0s 172ms/step - loss: 0.0081 - accuracy: 1.0000 - val_loss: 5.1964 - val_accuracy: 0.0000e+00\n",
            "Epoch 147/200\n",
            "1/1 [==============================] - 0s 178ms/step - loss: 0.0088 - accuracy: 1.0000 - val_loss: 5.2009 - val_accuracy: 0.0000e+00\n",
            "Epoch 148/200\n",
            "1/1 [==============================] - 0s 172ms/step - loss: 0.0043 - accuracy: 1.0000 - val_loss: 5.2113 - val_accuracy: 0.0000e+00\n",
            "Epoch 149/200\n",
            "1/1 [==============================] - 0s 170ms/step - loss: 0.0046 - accuracy: 1.0000 - val_loss: 5.2253 - val_accuracy: 0.0000e+00\n",
            "Epoch 150/200\n",
            "1/1 [==============================] - 0s 167ms/step - loss: 0.0038 - accuracy: 1.0000 - val_loss: 5.2365 - val_accuracy: 0.0000e+00\n",
            "Epoch 151/200\n",
            "1/1 [==============================] - 0s 175ms/step - loss: 0.0061 - accuracy: 1.0000 - val_loss: 5.2413 - val_accuracy: 0.0000e+00\n",
            "Epoch 152/200\n",
            "1/1 [==============================] - 0s 171ms/step - loss: 0.0028 - accuracy: 1.0000 - val_loss: 5.2564 - val_accuracy: 0.0000e+00\n",
            "Epoch 153/200\n",
            "1/1 [==============================] - 0s 172ms/step - loss: 0.0061 - accuracy: 1.0000 - val_loss: 5.2665 - val_accuracy: 0.0000e+00\n",
            "Epoch 154/200\n",
            "1/1 [==============================] - 0s 170ms/step - loss: 0.0052 - accuracy: 1.0000 - val_loss: 5.2685 - val_accuracy: 0.0000e+00\n",
            "Epoch 155/200\n",
            "1/1 [==============================] - 0s 172ms/step - loss: 0.0037 - accuracy: 1.0000 - val_loss: 5.2687 - val_accuracy: 0.0000e+00\n",
            "Epoch 156/200\n",
            "1/1 [==============================] - 0s 173ms/step - loss: 0.0064 - accuracy: 1.0000 - val_loss: 5.2893 - val_accuracy: 0.0000e+00\n",
            "Epoch 157/200\n",
            "1/1 [==============================] - 0s 170ms/step - loss: 0.0046 - accuracy: 1.0000 - val_loss: 5.2938 - val_accuracy: 0.0000e+00\n",
            "Epoch 158/200\n",
            "1/1 [==============================] - 0s 167ms/step - loss: 0.0075 - accuracy: 1.0000 - val_loss: 5.2696 - val_accuracy: 0.0000e+00\n",
            "Epoch 159/200\n",
            "1/1 [==============================] - 0s 174ms/step - loss: 0.0060 - accuracy: 1.0000 - val_loss: 5.2670 - val_accuracy: 0.0000e+00\n",
            "Epoch 160/200\n",
            "1/1 [==============================] - 0s 169ms/step - loss: 0.0055 - accuracy: 1.0000 - val_loss: 5.2438 - val_accuracy: 0.0000e+00\n",
            "Epoch 161/200\n",
            "1/1 [==============================] - 0s 174ms/step - loss: 0.0060 - accuracy: 1.0000 - val_loss: 5.2141 - val_accuracy: 0.0000e+00\n",
            "Epoch 162/200\n",
            "1/1 [==============================] - 0s 169ms/step - loss: 0.0036 - accuracy: 1.0000 - val_loss: 5.1946 - val_accuracy: 0.0000e+00\n",
            "Epoch 163/200\n",
            "1/1 [==============================] - 0s 174ms/step - loss: 0.0066 - accuracy: 1.0000 - val_loss: 5.1732 - val_accuracy: 0.0000e+00\n",
            "Epoch 164/200\n",
            "1/1 [==============================] - 0s 174ms/step - loss: 0.0050 - accuracy: 1.0000 - val_loss: 5.1545 - val_accuracy: 0.0000e+00\n",
            "Epoch 165/200\n",
            "1/1 [==============================] - 0s 184ms/step - loss: 0.0060 - accuracy: 1.0000 - val_loss: 5.1195 - val_accuracy: 0.0000e+00\n",
            "Epoch 166/200\n",
            "1/1 [==============================] - 0s 174ms/step - loss: 0.0170 - accuracy: 1.0000 - val_loss: 5.1043 - val_accuracy: 0.0000e+00\n",
            "Epoch 167/200\n",
            "1/1 [==============================] - 0s 176ms/step - loss: 0.0066 - accuracy: 1.0000 - val_loss: 5.0978 - val_accuracy: 0.0000e+00\n",
            "Epoch 168/200\n",
            "1/1 [==============================] - 0s 173ms/step - loss: 0.0090 - accuracy: 1.0000 - val_loss: 5.0845 - val_accuracy: 0.0000e+00\n",
            "Epoch 169/200\n",
            "1/1 [==============================] - 0s 177ms/step - loss: 0.0074 - accuracy: 1.0000 - val_loss: 5.0704 - val_accuracy: 0.0000e+00\n",
            "Epoch 170/200\n",
            "1/1 [==============================] - 0s 171ms/step - loss: 0.0141 - accuracy: 1.0000 - val_loss: 5.0554 - val_accuracy: 0.0000e+00\n",
            "Epoch 171/200\n",
            "1/1 [==============================] - 0s 178ms/step - loss: 0.0048 - accuracy: 1.0000 - val_loss: 5.0511 - val_accuracy: 0.0000e+00\n",
            "Epoch 172/200\n",
            "1/1 [==============================] - 0s 172ms/step - loss: 0.0067 - accuracy: 1.0000 - val_loss: 5.0428 - val_accuracy: 0.0000e+00\n",
            "Epoch 173/200\n",
            "1/1 [==============================] - 0s 171ms/step - loss: 0.0035 - accuracy: 1.0000 - val_loss: 5.0441 - val_accuracy: 0.0000e+00\n",
            "Epoch 174/200\n",
            "1/1 [==============================] - 0s 166ms/step - loss: 0.0024 - accuracy: 1.0000 - val_loss: 5.0399 - val_accuracy: 0.0000e+00\n",
            "Epoch 175/200\n",
            "1/1 [==============================] - 0s 169ms/step - loss: 0.0044 - accuracy: 1.0000 - val_loss: 5.0516 - val_accuracy: 0.0000e+00\n",
            "Epoch 176/200\n",
            "1/1 [==============================] - 0s 177ms/step - loss: 0.0088 - accuracy: 1.0000 - val_loss: 5.0796 - val_accuracy: 0.0000e+00\n",
            "Epoch 177/200\n",
            "1/1 [==============================] - 0s 181ms/step - loss: 0.0143 - accuracy: 1.0000 - val_loss: 5.1319 - val_accuracy: 0.0000e+00\n",
            "Epoch 178/200\n",
            "1/1 [==============================] - 0s 167ms/step - loss: 0.0039 - accuracy: 1.0000 - val_loss: 5.1647 - val_accuracy: 0.0000e+00\n",
            "Epoch 179/200\n",
            "1/1 [==============================] - 0s 166ms/step - loss: 0.0019 - accuracy: 1.0000 - val_loss: 5.2165 - val_accuracy: 0.0000e+00\n",
            "Epoch 180/200\n",
            "1/1 [==============================] - 0s 178ms/step - loss: 0.0029 - accuracy: 1.0000 - val_loss: 5.2838 - val_accuracy: 0.0000e+00\n",
            "Epoch 181/200\n",
            "1/1 [==============================] - 0s 172ms/step - loss: 0.0051 - accuracy: 1.0000 - val_loss: 5.3396 - val_accuracy: 0.0000e+00\n",
            "Epoch 182/200\n",
            "1/1 [==============================] - 0s 176ms/step - loss: 0.0049 - accuracy: 1.0000 - val_loss: 5.3796 - val_accuracy: 0.0000e+00\n",
            "Epoch 183/200\n",
            "1/1 [==============================] - 0s 183ms/step - loss: 0.0040 - accuracy: 1.0000 - val_loss: 5.4180 - val_accuracy: 0.0000e+00\n",
            "Epoch 184/200\n",
            "1/1 [==============================] - 0s 167ms/step - loss: 0.0014 - accuracy: 1.0000 - val_loss: 5.4442 - val_accuracy: 0.0000e+00\n",
            "Epoch 185/200\n",
            "1/1 [==============================] - 0s 164ms/step - loss: 0.0033 - accuracy: 1.0000 - val_loss: 5.4804 - val_accuracy: 0.0000e+00\n",
            "Epoch 186/200\n",
            "1/1 [==============================] - 0s 169ms/step - loss: 0.0020 - accuracy: 1.0000 - val_loss: 5.5033 - val_accuracy: 0.0000e+00\n",
            "Epoch 187/200\n",
            "1/1 [==============================] - 0s 177ms/step - loss: 0.0019 - accuracy: 1.0000 - val_loss: 5.5244 - val_accuracy: 0.0000e+00\n",
            "Epoch 188/200\n",
            "1/1 [==============================] - 0s 179ms/step - loss: 0.0040 - accuracy: 1.0000 - val_loss: 5.5466 - val_accuracy: 0.0000e+00\n",
            "Epoch 189/200\n",
            "1/1 [==============================] - 0s 167ms/step - loss: 0.0030 - accuracy: 1.0000 - val_loss: 5.5562 - val_accuracy: 0.0000e+00\n",
            "Epoch 190/200\n",
            "1/1 [==============================] - 0s 167ms/step - loss: 0.0040 - accuracy: 1.0000 - val_loss: 5.5601 - val_accuracy: 0.0000e+00\n",
            "Epoch 191/200\n",
            "1/1 [==============================] - 0s 178ms/step - loss: 0.0112 - accuracy: 1.0000 - val_loss: 5.5724 - val_accuracy: 0.0000e+00\n",
            "Epoch 192/200\n",
            "1/1 [==============================] - 0s 169ms/step - loss: 0.0055 - accuracy: 1.0000 - val_loss: 5.5776 - val_accuracy: 0.0000e+00\n",
            "Epoch 193/200\n",
            "1/1 [==============================] - 0s 174ms/step - loss: 0.0176 - accuracy: 1.0000 - val_loss: 5.6220 - val_accuracy: 0.0000e+00\n",
            "Epoch 194/200\n",
            "1/1 [==============================] - 0s 174ms/step - loss: 0.0028 - accuracy: 1.0000 - val_loss: 5.6528 - val_accuracy: 0.0000e+00\n",
            "Epoch 195/200\n",
            "1/1 [==============================] - 0s 175ms/step - loss: 0.0048 - accuracy: 1.0000 - val_loss: 5.6772 - val_accuracy: 0.0000e+00\n",
            "Epoch 196/200\n",
            "1/1 [==============================] - 0s 172ms/step - loss: 0.0041 - accuracy: 1.0000 - val_loss: 5.6804 - val_accuracy: 0.0000e+00\n",
            "Epoch 197/200\n",
            "1/1 [==============================] - 0s 171ms/step - loss: 0.0036 - accuracy: 1.0000 - val_loss: 5.6730 - val_accuracy: 0.0000e+00\n",
            "Epoch 198/200\n",
            "1/1 [==============================] - 0s 174ms/step - loss: 0.0076 - accuracy: 1.0000 - val_loss: 5.6805 - val_accuracy: 0.0000e+00\n",
            "Epoch 199/200\n",
            "1/1 [==============================] - 0s 173ms/step - loss: 0.0111 - accuracy: 1.0000 - val_loss: 5.6619 - val_accuracy: 0.0000e+00\n",
            "Epoch 200/200\n",
            "1/1 [==============================] - 0s 180ms/step - loss: 0.0086 - accuracy: 1.0000 - val_loss: 5.6336 - val_accuracy: 0.0000e+00\n"
          ],
          "name": "stdout"
        },
        {
          "output_type": "execute_result",
          "data": {
            "text/plain": [
              "<tensorflow.python.keras.callbacks.History at 0x7fa8bfa34ed0>"
            ]
          },
          "metadata": {
            "tags": []
          },
          "execution_count": 10
        }
      ]
    },
    {
      "cell_type": "code",
      "metadata": {
        "id": "cU-KlmscI-Wl",
        "colab": {
          "base_uri": "https://localhost:8080/"
        },
        "outputId": "7d611324-3672-42c2-c352-90340c2b5590"
      },
      "source": [
        "model.summary()"
      ],
      "execution_count": null,
      "outputs": [
        {
          "output_type": "stream",
          "text": [
            "Model: \"sequential\"\n",
            "_________________________________________________________________\n",
            "Layer (type)                 Output Shape              Param #   \n",
            "=================================================================\n",
            "module_wrapper (ModuleWrappe (None, 48, 48, 1)         0         \n",
            "_________________________________________________________________\n",
            "module_wrapper_1 (ModuleWrap (None, 44, 44, 64)        1664      \n",
            "_________________________________________________________________\n",
            "module_wrapper_2 (ModuleWrap (None, 40, 40, 64)        102464    \n",
            "_________________________________________________________________\n",
            "module_wrapper_3 (ModuleWrap (None, 40, 40, 64)        0         \n",
            "_________________________________________________________________\n",
            "module_wrapper_4 (ModuleWrap (None, 40, 40, 64)        256       \n",
            "_________________________________________________________________\n",
            "module_wrapper_5 (ModuleWrap (None, 20, 20, 64)        0         \n",
            "_________________________________________________________________\n",
            "module_wrapper_6 (ModuleWrap (None, 16, 16, 128)       204928    \n",
            "_________________________________________________________________\n",
            "module_wrapper_7 (ModuleWrap (None, 12, 12, 128)       409728    \n",
            "_________________________________________________________________\n",
            "module_wrapper_8 (ModuleWrap (None, 12, 12, 128)       0         \n",
            "_________________________________________________________________\n",
            "module_wrapper_9 (ModuleWrap (None, 12, 12, 128)       512       \n",
            "_________________________________________________________________\n",
            "module_wrapper_10 (ModuleWra (None, 6, 6, 128)         0         \n",
            "_________________________________________________________________\n",
            "module_wrapper_11 (ModuleWra (None, 4, 4, 256)         295168    \n",
            "_________________________________________________________________\n",
            "module_wrapper_12 (ModuleWra (None, 2, 2, 256)         590080    \n",
            "_________________________________________________________________\n",
            "module_wrapper_13 (ModuleWra (None, 2, 2, 256)         0         \n",
            "_________________________________________________________________\n",
            "module_wrapper_14 (ModuleWra (None, 2, 2, 256)         1024      \n",
            "_________________________________________________________________\n",
            "module_wrapper_15 (ModuleWra (None, 1, 1, 256)         0         \n",
            "_________________________________________________________________\n",
            "module_wrapper_16 (ModuleWra (None, 256)               0         \n",
            "_________________________________________________________________\n",
            "module_wrapper_17 (ModuleWra (None, 128)               32896     \n",
            "_________________________________________________________________\n",
            "module_wrapper_18 (ModuleWra (None, 128)               0         \n",
            "_________________________________________________________________\n",
            "module_wrapper_19 (ModuleWra (None, 128)               512       \n",
            "_________________________________________________________________\n",
            "module_wrapper_20 (ModuleWra (None, 7)                 903       \n",
            "=================================================================\n",
            "Total params: 1,640,135\n",
            "Trainable params: 1,638,983\n",
            "Non-trainable params: 1,152\n",
            "_________________________________________________________________\n"
          ],
          "name": "stdout"
        }
      ]
    },
    {
      "cell_type": "code",
      "metadata": {
        "id": "jmRmEuLFh1Xx"
      },
      "source": [
        "model.evaluate()"
      ],
      "execution_count": null,
      "outputs": []
    },
    {
      "cell_type": "code",
      "metadata": {
        "id": "0GH_i44HePBR"
      },
      "source": [
        "fer_json = model.to_json()\n",
        "with open(\"fer.json\", \"w\") as json_file:\n",
        "    json_file.write(fer_json)\n",
        "model.save_weights(\"fer.h5\")"
      ],
      "execution_count": null,
      "outputs": []
    }
  ]
}
